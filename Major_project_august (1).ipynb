{
 "cells": [
  {
   "cell_type": "code",
   "execution_count": 140,
   "id": "13b4271b",
   "metadata": {},
   "outputs": [],
   "source": [
    "import pandas as pd\n",
    "import numpy as np\n",
    "import matplotlib.pyplot as plt\n",
    "import seaborn as sns\n",
    "\n",
    "from sklearn import linear_model\n",
    "from sklearn.linear_model import LogisticRegression\n",
    "from sklearn.metrics import mean_squared_error\n",
    "from sklearn.model_selection import train_test_split\n",
    "from sklearn.metrics import accuracy_score\n",
    "import warnings\n",
    "warnings.filterwarnings('ignore')"
   ]
  },
  {
   "cell_type": "code",
   "execution_count": 79,
   "id": "315f7b84",
   "metadata": {},
   "outputs": [],
   "source": [
    "data_df=pd.read_csv(\"data.csv\")"
   ]
  },
  {
   "cell_type": "code",
   "execution_count": 80,
   "id": "1812cf58",
   "metadata": {},
   "outputs": [
    {
     "data": {
      "text/html": [
       "<div>\n",
       "<style scoped>\n",
       "    .dataframe tbody tr th:only-of-type {\n",
       "        vertical-align: middle;\n",
       "    }\n",
       "\n",
       "    .dataframe tbody tr th {\n",
       "        vertical-align: top;\n",
       "    }\n",
       "\n",
       "    .dataframe thead th {\n",
       "        text-align: right;\n",
       "    }\n",
       "</style>\n",
       "<table border=\"1\" class=\"dataframe\">\n",
       "  <thead>\n",
       "    <tr style=\"text-align: right;\">\n",
       "      <th></th>\n",
       "      <th>year</th>\n",
       "      <th>customer_id</th>\n",
       "      <th>phone_no</th>\n",
       "      <th>gender</th>\n",
       "      <th>age</th>\n",
       "      <th>no_of_days_subscribed</th>\n",
       "      <th>multi_screen</th>\n",
       "      <th>mail_subscribed</th>\n",
       "      <th>weekly_mins_watched</th>\n",
       "      <th>minimum_daily_mins</th>\n",
       "      <th>maximum_daily_mins</th>\n",
       "      <th>weekly_max_night_mins</th>\n",
       "      <th>videos_watched</th>\n",
       "      <th>maximum_days_inactive</th>\n",
       "      <th>customer_support_calls</th>\n",
       "      <th>churn</th>\n",
       "    </tr>\n",
       "  </thead>\n",
       "  <tbody>\n",
       "    <tr>\n",
       "      <th>0</th>\n",
       "      <td>2015</td>\n",
       "      <td>100198</td>\n",
       "      <td>409-8743</td>\n",
       "      <td>Female</td>\n",
       "      <td>36</td>\n",
       "      <td>62</td>\n",
       "      <td>no</td>\n",
       "      <td>no</td>\n",
       "      <td>148.35</td>\n",
       "      <td>12.2</td>\n",
       "      <td>16.81</td>\n",
       "      <td>82</td>\n",
       "      <td>1</td>\n",
       "      <td>4.0</td>\n",
       "      <td>1</td>\n",
       "      <td>0.0</td>\n",
       "    </tr>\n",
       "    <tr>\n",
       "      <th>1</th>\n",
       "      <td>2015</td>\n",
       "      <td>100643</td>\n",
       "      <td>340-5930</td>\n",
       "      <td>Female</td>\n",
       "      <td>39</td>\n",
       "      <td>149</td>\n",
       "      <td>no</td>\n",
       "      <td>no</td>\n",
       "      <td>294.45</td>\n",
       "      <td>7.7</td>\n",
       "      <td>33.37</td>\n",
       "      <td>87</td>\n",
       "      <td>3</td>\n",
       "      <td>3.0</td>\n",
       "      <td>2</td>\n",
       "      <td>0.0</td>\n",
       "    </tr>\n",
       "    <tr>\n",
       "      <th>2</th>\n",
       "      <td>2015</td>\n",
       "      <td>100756</td>\n",
       "      <td>372-3750</td>\n",
       "      <td>Female</td>\n",
       "      <td>65</td>\n",
       "      <td>126</td>\n",
       "      <td>no</td>\n",
       "      <td>no</td>\n",
       "      <td>87.30</td>\n",
       "      <td>11.9</td>\n",
       "      <td>9.89</td>\n",
       "      <td>91</td>\n",
       "      <td>1</td>\n",
       "      <td>4.0</td>\n",
       "      <td>5</td>\n",
       "      <td>1.0</td>\n",
       "    </tr>\n",
       "    <tr>\n",
       "      <th>3</th>\n",
       "      <td>2015</td>\n",
       "      <td>101595</td>\n",
       "      <td>331-4902</td>\n",
       "      <td>Female</td>\n",
       "      <td>24</td>\n",
       "      <td>131</td>\n",
       "      <td>no</td>\n",
       "      <td>yes</td>\n",
       "      <td>321.30</td>\n",
       "      <td>9.5</td>\n",
       "      <td>36.41</td>\n",
       "      <td>102</td>\n",
       "      <td>4</td>\n",
       "      <td>3.0</td>\n",
       "      <td>3</td>\n",
       "      <td>0.0</td>\n",
       "    </tr>\n",
       "    <tr>\n",
       "      <th>4</th>\n",
       "      <td>2015</td>\n",
       "      <td>101653</td>\n",
       "      <td>351-8398</td>\n",
       "      <td>Female</td>\n",
       "      <td>40</td>\n",
       "      <td>191</td>\n",
       "      <td>no</td>\n",
       "      <td>no</td>\n",
       "      <td>243.00</td>\n",
       "      <td>10.9</td>\n",
       "      <td>27.54</td>\n",
       "      <td>83</td>\n",
       "      <td>7</td>\n",
       "      <td>3.0</td>\n",
       "      <td>1</td>\n",
       "      <td>0.0</td>\n",
       "    </tr>\n",
       "  </tbody>\n",
       "</table>\n",
       "</div>"
      ],
      "text/plain": [
       "   year  customer_id  phone_no  gender  age  no_of_days_subscribed  \\\n",
       "0  2015       100198  409-8743  Female   36                     62   \n",
       "1  2015       100643  340-5930  Female   39                    149   \n",
       "2  2015       100756  372-3750  Female   65                    126   \n",
       "3  2015       101595  331-4902  Female   24                    131   \n",
       "4  2015       101653  351-8398  Female   40                    191   \n",
       "\n",
       "  multi_screen mail_subscribed  weekly_mins_watched  minimum_daily_mins  \\\n",
       "0           no              no               148.35                12.2   \n",
       "1           no              no               294.45                 7.7   \n",
       "2           no              no                87.30                11.9   \n",
       "3           no             yes               321.30                 9.5   \n",
       "4           no              no               243.00                10.9   \n",
       "\n",
       "   maximum_daily_mins  weekly_max_night_mins  videos_watched  \\\n",
       "0               16.81                     82               1   \n",
       "1               33.37                     87               3   \n",
       "2                9.89                     91               1   \n",
       "3               36.41                    102               4   \n",
       "4               27.54                     83               7   \n",
       "\n",
       "   maximum_days_inactive  customer_support_calls  churn  \n",
       "0                    4.0                       1    0.0  \n",
       "1                    3.0                       2    0.0  \n",
       "2                    4.0                       5    1.0  \n",
       "3                    3.0                       3    0.0  \n",
       "4                    3.0                       1    0.0  "
      ]
     },
     "execution_count": 80,
     "metadata": {},
     "output_type": "execute_result"
    }
   ],
   "source": [
    "data_df.head()"
   ]
  },
  {
   "cell_type": "code",
   "execution_count": 81,
   "id": "1d2069a2",
   "metadata": {},
   "outputs": [
    {
     "data": {
      "text/plain": [
       "year                        int64\n",
       "customer_id                 int64\n",
       "phone_no                   object\n",
       "gender                     object\n",
       "age                         int64\n",
       "no_of_days_subscribed       int64\n",
       "multi_screen               object\n",
       "mail_subscribed            object\n",
       "weekly_mins_watched       float64\n",
       "minimum_daily_mins        float64\n",
       "maximum_daily_mins        float64\n",
       "weekly_max_night_mins       int64\n",
       "videos_watched              int64\n",
       "maximum_days_inactive     float64\n",
       "customer_support_calls      int64\n",
       "churn                     float64\n",
       "dtype: object"
      ]
     },
     "execution_count": 81,
     "metadata": {},
     "output_type": "execute_result"
    }
   ],
   "source": [
    "data_df.dtypes"
   ]
  },
  {
   "cell_type": "code",
   "execution_count": 82,
   "id": "9ae72922",
   "metadata": {},
   "outputs": [
    {
     "data": {
      "text/plain": [
       "(2000, 16)"
      ]
     },
     "execution_count": 82,
     "metadata": {},
     "output_type": "execute_result"
    }
   ],
   "source": [
    "data_df.shape"
   ]
  },
  {
   "cell_type": "code",
   "execution_count": 83,
   "id": "70be193d",
   "metadata": {},
   "outputs": [
    {
     "name": "stdout",
     "output_type": "stream",
     "text": [
      "<class 'pandas.core.frame.DataFrame'>\n",
      "RangeIndex: 2000 entries, 0 to 1999\n",
      "Data columns (total 16 columns):\n",
      " #   Column                  Non-Null Count  Dtype  \n",
      "---  ------                  --------------  -----  \n",
      " 0   year                    2000 non-null   int64  \n",
      " 1   customer_id             2000 non-null   int64  \n",
      " 2   phone_no                2000 non-null   object \n",
      " 3   gender                  1976 non-null   object \n",
      " 4   age                     2000 non-null   int64  \n",
      " 5   no_of_days_subscribed   2000 non-null   int64  \n",
      " 6   multi_screen            2000 non-null   object \n",
      " 7   mail_subscribed         2000 non-null   object \n",
      " 8   weekly_mins_watched     2000 non-null   float64\n",
      " 9   minimum_daily_mins      2000 non-null   float64\n",
      " 10  maximum_daily_mins      2000 non-null   float64\n",
      " 11  weekly_max_night_mins   2000 non-null   int64  \n",
      " 12  videos_watched          2000 non-null   int64  \n",
      " 13  maximum_days_inactive   1972 non-null   float64\n",
      " 14  customer_support_calls  2000 non-null   int64  \n",
      " 15  churn                   1965 non-null   float64\n",
      "dtypes: float64(5), int64(7), object(4)\n",
      "memory usage: 250.1+ KB\n"
     ]
    }
   ],
   "source": [
    "data_df.info()"
   ]
  },
  {
   "cell_type": "code",
   "execution_count": 84,
   "id": "a93f2cd1",
   "metadata": {},
   "outputs": [
    {
     "data": {
      "text/plain": [
       "year                       0\n",
       "customer_id                0\n",
       "phone_no                   0\n",
       "gender                    24\n",
       "age                        0\n",
       "no_of_days_subscribed      0\n",
       "multi_screen               0\n",
       "mail_subscribed            0\n",
       "weekly_mins_watched        0\n",
       "minimum_daily_mins         0\n",
       "maximum_daily_mins         0\n",
       "weekly_max_night_mins      0\n",
       "videos_watched             0\n",
       "maximum_days_inactive     28\n",
       "customer_support_calls     0\n",
       "churn                     35\n",
       "dtype: int64"
      ]
     },
     "execution_count": 84,
     "metadata": {},
     "output_type": "execute_result"
    }
   ],
   "source": [
    "data_df.isnull().sum()"
   ]
  },
  {
   "cell_type": "code",
   "execution_count": 85,
   "id": "49e93de6",
   "metadata": {},
   "outputs": [],
   "source": [
    "data_df = data_df.drop(columns = 'churn',axis=1)"
   ]
  },
  {
   "cell_type": "code",
   "execution_count": 86,
   "id": "589b90e4",
   "metadata": {},
   "outputs": [],
   "source": [
    "data_df['gender'].fillna(data_df['gender'].mode(),inplace=True)"
   ]
  },
  {
   "cell_type": "code",
   "execution_count": 87,
   "id": "86344a2e",
   "metadata": {},
   "outputs": [
    {
     "name": "stdout",
     "output_type": "stream",
     "text": [
      "0    3.0\n",
      "Name: maximum_days_inactive, dtype: float64\n"
     ]
    }
   ],
   "source": [
    "print(data_df['maximum_days_inactive'].mode())"
   ]
  },
  {
   "cell_type": "code",
   "execution_count": 88,
   "id": "ed0f1403",
   "metadata": {},
   "outputs": [
    {
     "name": "stdout",
     "output_type": "stream",
     "text": [
      "3.0\n"
     ]
    }
   ],
   "source": [
    "print(data_df['maximum_days_inactive'].mode()[0])"
   ]
  },
  {
   "cell_type": "code",
   "execution_count": 89,
   "id": "525db5b1",
   "metadata": {},
   "outputs": [],
   "source": [
    "data_df['gender'].fillna(data_df['gender'].mode()[0], inplace=True)"
   ]
  },
  {
   "cell_type": "code",
   "execution_count": 90,
   "id": "e01dea2a",
   "metadata": {},
   "outputs": [],
   "source": [
    "data_df['maximum_days_inactive'].fillna(data_df['maximum_days_inactive'].mode()[0], inplace=True)"
   ]
  },
  {
   "cell_type": "code",
   "execution_count": 91,
   "id": "15b528cd",
   "metadata": {},
   "outputs": [
    {
     "data": {
      "text/plain": [
       "year                      0\n",
       "customer_id               0\n",
       "phone_no                  0\n",
       "gender                    0\n",
       "age                       0\n",
       "no_of_days_subscribed     0\n",
       "multi_screen              0\n",
       "mail_subscribed           0\n",
       "weekly_mins_watched       0\n",
       "minimum_daily_mins        0\n",
       "maximum_daily_mins        0\n",
       "weekly_max_night_mins     0\n",
       "videos_watched            0\n",
       "maximum_days_inactive     0\n",
       "customer_support_calls    0\n",
       "dtype: int64"
      ]
     },
     "execution_count": 91,
     "metadata": {},
     "output_type": "execute_result"
    }
   ],
   "source": [
    "data_df.isnull().sum()"
   ]
  },
  {
   "cell_type": "code",
   "execution_count": 92,
   "id": "1766711c",
   "metadata": {},
   "outputs": [
    {
     "data": {
      "text/html": [
       "<div>\n",
       "<style scoped>\n",
       "    .dataframe tbody tr th:only-of-type {\n",
       "        vertical-align: middle;\n",
       "    }\n",
       "\n",
       "    .dataframe tbody tr th {\n",
       "        vertical-align: top;\n",
       "    }\n",
       "\n",
       "    .dataframe thead th {\n",
       "        text-align: right;\n",
       "    }\n",
       "</style>\n",
       "<table border=\"1\" class=\"dataframe\">\n",
       "  <thead>\n",
       "    <tr style=\"text-align: right;\">\n",
       "      <th></th>\n",
       "      <th>year</th>\n",
       "      <th>customer_id</th>\n",
       "      <th>age</th>\n",
       "      <th>no_of_days_subscribed</th>\n",
       "      <th>weekly_mins_watched</th>\n",
       "      <th>minimum_daily_mins</th>\n",
       "      <th>maximum_daily_mins</th>\n",
       "      <th>weekly_max_night_mins</th>\n",
       "      <th>videos_watched</th>\n",
       "      <th>maximum_days_inactive</th>\n",
       "      <th>customer_support_calls</th>\n",
       "    </tr>\n",
       "  </thead>\n",
       "  <tbody>\n",
       "    <tr>\n",
       "      <th>count</th>\n",
       "      <td>2000.0</td>\n",
       "      <td>2000.000000</td>\n",
       "      <td>2000.00000</td>\n",
       "      <td>2000.000000</td>\n",
       "      <td>2000.000000</td>\n",
       "      <td>2000.000000</td>\n",
       "      <td>2000.000000</td>\n",
       "      <td>2000.000000</td>\n",
       "      <td>2000.000000</td>\n",
       "      <td>2000.000000</td>\n",
       "      <td>2000.000000</td>\n",
       "    </tr>\n",
       "    <tr>\n",
       "      <th>mean</th>\n",
       "      <td>2015.0</td>\n",
       "      <td>554887.157500</td>\n",
       "      <td>38.69050</td>\n",
       "      <td>99.750000</td>\n",
       "      <td>270.178425</td>\n",
       "      <td>10.198700</td>\n",
       "      <td>30.620780</td>\n",
       "      <td>100.415500</td>\n",
       "      <td>4.482500</td>\n",
       "      <td>3.247000</td>\n",
       "      <td>1.547000</td>\n",
       "    </tr>\n",
       "    <tr>\n",
       "      <th>std</th>\n",
       "      <td>0.0</td>\n",
       "      <td>261033.690318</td>\n",
       "      <td>10.20641</td>\n",
       "      <td>39.755386</td>\n",
       "      <td>80.551627</td>\n",
       "      <td>2.785519</td>\n",
       "      <td>9.129165</td>\n",
       "      <td>19.529454</td>\n",
       "      <td>2.487728</td>\n",
       "      <td>0.803937</td>\n",
       "      <td>1.315164</td>\n",
       "    </tr>\n",
       "    <tr>\n",
       "      <th>min</th>\n",
       "      <td>2015.0</td>\n",
       "      <td>100198.000000</td>\n",
       "      <td>18.00000</td>\n",
       "      <td>1.000000</td>\n",
       "      <td>0.000000</td>\n",
       "      <td>0.000000</td>\n",
       "      <td>0.000000</td>\n",
       "      <td>42.000000</td>\n",
       "      <td>0.000000</td>\n",
       "      <td>0.000000</td>\n",
       "      <td>0.000000</td>\n",
       "    </tr>\n",
       "    <tr>\n",
       "      <th>25%</th>\n",
       "      <td>2015.0</td>\n",
       "      <td>328634.750000</td>\n",
       "      <td>32.00000</td>\n",
       "      <td>73.000000</td>\n",
       "      <td>218.212500</td>\n",
       "      <td>8.400000</td>\n",
       "      <td>24.735000</td>\n",
       "      <td>87.000000</td>\n",
       "      <td>3.000000</td>\n",
       "      <td>3.000000</td>\n",
       "      <td>1.000000</td>\n",
       "    </tr>\n",
       "    <tr>\n",
       "      <th>50%</th>\n",
       "      <td>2015.0</td>\n",
       "      <td>567957.500000</td>\n",
       "      <td>37.00000</td>\n",
       "      <td>99.000000</td>\n",
       "      <td>269.925000</td>\n",
       "      <td>10.200000</td>\n",
       "      <td>30.590000</td>\n",
       "      <td>101.000000</td>\n",
       "      <td>4.000000</td>\n",
       "      <td>3.000000</td>\n",
       "      <td>1.000000</td>\n",
       "    </tr>\n",
       "    <tr>\n",
       "      <th>75%</th>\n",
       "      <td>2015.0</td>\n",
       "      <td>773280.250000</td>\n",
       "      <td>44.00000</td>\n",
       "      <td>127.000000</td>\n",
       "      <td>324.675000</td>\n",
       "      <td>12.000000</td>\n",
       "      <td>36.797500</td>\n",
       "      <td>114.000000</td>\n",
       "      <td>6.000000</td>\n",
       "      <td>4.000000</td>\n",
       "      <td>2.000000</td>\n",
       "    </tr>\n",
       "    <tr>\n",
       "      <th>max</th>\n",
       "      <td>2015.0</td>\n",
       "      <td>999961.000000</td>\n",
       "      <td>82.00000</td>\n",
       "      <td>243.000000</td>\n",
       "      <td>526.200000</td>\n",
       "      <td>20.000000</td>\n",
       "      <td>59.640000</td>\n",
       "      <td>175.000000</td>\n",
       "      <td>19.000000</td>\n",
       "      <td>6.000000</td>\n",
       "      <td>9.000000</td>\n",
       "    </tr>\n",
       "  </tbody>\n",
       "</table>\n",
       "</div>"
      ],
      "text/plain": [
       "         year    customer_id         age  no_of_days_subscribed  \\\n",
       "count  2000.0    2000.000000  2000.00000            2000.000000   \n",
       "mean   2015.0  554887.157500    38.69050              99.750000   \n",
       "std       0.0  261033.690318    10.20641              39.755386   \n",
       "min    2015.0  100198.000000    18.00000               1.000000   \n",
       "25%    2015.0  328634.750000    32.00000              73.000000   \n",
       "50%    2015.0  567957.500000    37.00000              99.000000   \n",
       "75%    2015.0  773280.250000    44.00000             127.000000   \n",
       "max    2015.0  999961.000000    82.00000             243.000000   \n",
       "\n",
       "       weekly_mins_watched  minimum_daily_mins  maximum_daily_mins  \\\n",
       "count          2000.000000         2000.000000         2000.000000   \n",
       "mean            270.178425           10.198700           30.620780   \n",
       "std              80.551627            2.785519            9.129165   \n",
       "min               0.000000            0.000000            0.000000   \n",
       "25%             218.212500            8.400000           24.735000   \n",
       "50%             269.925000           10.200000           30.590000   \n",
       "75%             324.675000           12.000000           36.797500   \n",
       "max             526.200000           20.000000           59.640000   \n",
       "\n",
       "       weekly_max_night_mins  videos_watched  maximum_days_inactive  \\\n",
       "count            2000.000000     2000.000000            2000.000000   \n",
       "mean              100.415500        4.482500               3.247000   \n",
       "std                19.529454        2.487728               0.803937   \n",
       "min                42.000000        0.000000               0.000000   \n",
       "25%                87.000000        3.000000               3.000000   \n",
       "50%               101.000000        4.000000               3.000000   \n",
       "75%               114.000000        6.000000               4.000000   \n",
       "max               175.000000       19.000000               6.000000   \n",
       "\n",
       "       customer_support_calls  \n",
       "count             2000.000000  \n",
       "mean                 1.547000  \n",
       "std                  1.315164  \n",
       "min                  0.000000  \n",
       "25%                  1.000000  \n",
       "50%                  1.000000  \n",
       "75%                  2.000000  \n",
       "max                  9.000000  "
      ]
     },
     "execution_count": 92,
     "metadata": {},
     "output_type": "execute_result"
    }
   ],
   "source": [
    "data_df.describe()"
   ]
  },
  {
   "cell_type": "code",
   "execution_count": 93,
   "id": "5880e40d",
   "metadata": {},
   "outputs": [
    {
     "data": {
      "text/plain": [
       "86     28\n",
       "99     26\n",
       "87     26\n",
       "93     25\n",
       "92     24\n",
       "       ..\n",
       "186     1\n",
       "5       1\n",
       "205     1\n",
       "191     1\n",
       "208     1\n",
       "Name: no_of_days_subscribed, Length: 204, dtype: int64"
      ]
     },
     "execution_count": 93,
     "metadata": {},
     "output_type": "execute_result"
    }
   ],
   "source": [
    "data_df['no_of_days_subscribed'].value_counts()"
   ]
  },
  {
   "cell_type": "code",
   "execution_count": 94,
   "id": "886f2bd1",
   "metadata": {},
   "outputs": [
    {
     "data": {
      "text/plain": [
       "231.00    7\n",
       "213.45    6\n",
       "235.65    6\n",
       "251.70    5\n",
       "290.70    5\n",
       "         ..\n",
       "179.55    1\n",
       "414.90    1\n",
       "236.55    1\n",
       "181.05    1\n",
       "178.05    1\n",
       "Name: weekly_mins_watched, Length: 1260, dtype: int64"
      ]
     },
     "execution_count": 94,
     "metadata": {},
     "output_type": "execute_result"
    }
   ],
   "source": [
    "data_df['weekly_mins_watched'].value_counts()"
   ]
  },
  {
   "cell_type": "code",
   "execution_count": 95,
   "id": "643ad498",
   "metadata": {},
   "outputs": [
    {
     "data": {
      "text/plain": [
       "11.3    38\n",
       "9.5     37\n",
       "11.4    36\n",
       "11.1    34\n",
       "10.9    33\n",
       "        ..\n",
       "2.2      1\n",
       "16.7     1\n",
       "1.3      1\n",
       "18.2     1\n",
       "17.0     1\n",
       "Name: minimum_daily_mins, Length: 149, dtype: int64"
      ]
     },
     "execution_count": 95,
     "metadata": {},
     "output_type": "execute_result"
    }
   ],
   "source": [
    "data_df['minimum_daily_mins'].value_counts()"
   ]
  },
  {
   "cell_type": "code",
   "execution_count": 96,
   "id": "1c57b50b",
   "metadata": {},
   "outputs": [
    {
     "data": {
      "text/plain": [
       "26.18    7\n",
       "24.19    6\n",
       "26.71    6\n",
       "28.53    5\n",
       "32.95    5\n",
       "        ..\n",
       "20.35    1\n",
       "47.02    1\n",
       "26.81    1\n",
       "20.52    1\n",
       "20.18    1\n",
       "Name: maximum_daily_mins, Length: 1260, dtype: int64"
      ]
     },
     "execution_count": 96,
     "metadata": {},
     "output_type": "execute_result"
    }
   ],
   "source": [
    "data_df['maximum_daily_mins'].value_counts()"
   ]
  },
  {
   "cell_type": "code",
   "execution_count": 97,
   "id": "ec4a0885",
   "metadata": {},
   "outputs": [
    {
     "data": {
      "text/plain": [
       "105    51\n",
       "102    50\n",
       "91     48\n",
       "100    45\n",
       "93     42\n",
       "       ..\n",
       "158     1\n",
       "51      1\n",
       "46      1\n",
       "175     1\n",
       "44      1\n",
       "Name: weekly_max_night_mins, Length: 111, dtype: int64"
      ]
     },
     "execution_count": 97,
     "metadata": {},
     "output_type": "execute_result"
    }
   ],
   "source": [
    "data_df['weekly_max_night_mins'].value_counts()"
   ]
  },
  {
   "cell_type": "code",
   "execution_count": 98,
   "id": "aa04167d",
   "metadata": {},
   "outputs": [
    {
     "data": {
      "text/plain": [
       "3     408\n",
       "4     354\n",
       "2     295\n",
       "5     285\n",
       "6     201\n",
       "7     132\n",
       "1     101\n",
       "8      70\n",
       "9      61\n",
       "10     32\n",
       "11     19\n",
       "0      10\n",
       "12     10\n",
       "13      8\n",
       "15      6\n",
       "14      4\n",
       "18      2\n",
       "19      1\n",
       "16      1\n",
       "Name: videos_watched, dtype: int64"
      ]
     },
     "execution_count": 98,
     "metadata": {},
     "output_type": "execute_result"
    }
   ],
   "source": [
    "data_df['videos_watched'].value_counts()"
   ]
  },
  {
   "cell_type": "code",
   "execution_count": 99,
   "id": "5b868e0e",
   "metadata": {},
   "outputs": [
    {
     "data": {
      "text/plain": [
       "3.0    973\n",
       "4.0    645\n",
       "2.0    273\n",
       "5.0     85\n",
       "1.0     12\n",
       "0.0     10\n",
       "6.0      2\n",
       "Name: maximum_days_inactive, dtype: int64"
      ]
     },
     "execution_count": 99,
     "metadata": {},
     "output_type": "execute_result"
    }
   ],
   "source": [
    "data_df['maximum_days_inactive'].value_counts()"
   ]
  },
  {
   "cell_type": "code",
   "execution_count": 100,
   "id": "01f8253c",
   "metadata": {},
   "outputs": [
    {
     "data": {
      "text/plain": [
       "Male      1077\n",
       "Female     923\n",
       "Name: gender, dtype: int64"
      ]
     },
     "execution_count": 100,
     "metadata": {},
     "output_type": "execute_result"
    }
   ],
   "source": [
    "data_df['gender'].value_counts()"
   ]
  },
  {
   "cell_type": "code",
   "execution_count": 101,
   "id": "2f47332b",
   "metadata": {},
   "outputs": [],
   "source": [
    "sns.set()"
   ]
  },
  {
   "cell_type": "code",
   "execution_count": 102,
   "id": "4b70cb0e",
   "metadata": {},
   "outputs": [
    {
     "data": {
      "text/plain": [
       "<AxesSubplot:xlabel='no_of_days_subscribed', ylabel='count'>"
      ]
     },
     "execution_count": 102,
     "metadata": {},
     "output_type": "execute_result"
    },
    {
     "data": {
      "image/png": "[encoded data removed]",
      "text/plain": [
       "<Figure size 432x288 with 1 Axes>"
      ]
     },
     "metadata": {},
     "output_type": "display_data"
    }
   ],
   "source": [
    "sns.countplot('no_of_days_subscribed', data=data_df)"
   ]
  },
  {
   "cell_type": "code",
   "execution_count": 103,
   "id": "adf734ca",
   "metadata": {},
   "outputs": [
    {
     "data": {
      "text/plain": [
       "<AxesSubplot:xlabel='weekly_mins_watched', ylabel='count'>"
      ]
     },
     "execution_count": 103,
     "metadata": {},
     "output_type": "execute_result"
    },
    {
     "data": {
      "image/png": "[encoded data removed]",
      "text/plain": [
       "<Figure size 432x288 with 1 Axes>"
      ]
     },
     "metadata": {},
     "output_type": "display_data"
    }
   ],
   "source": [
    "sns.countplot('weekly_mins_watched', data = data_df)"
   ]
  },
  {
   "cell_type": "code",
   "execution_count": 104,
   "id": "414bf35b",
   "metadata": {},
   "outputs": [
    {
     "data": {
      "text/plain": [
       "<AxesSubplot:xlabel='minimum_daily_mins', ylabel='count'>"
      ]
     },
     "execution_count": 104,
     "metadata": {},
     "output_type": "execute_result"
    },
    {
     "data": {
      "image/png": "[encoded data removed]",
      "text/plain": [
       "<Figure size 432x288 with 1 Axes>"
      ]
     },
     "metadata": {},
     "output_type": "display_data"
    }
   ],
   "source": [
    "sns.countplot('minimum_daily_mins', data = data_df)"
   ]
  },
  {
   "cell_type": "code",
   "execution_count": 105,
   "id": "ccc7c061",
   "metadata": {},
   "outputs": [
    {
     "data": {
      "text/plain": [
       "<AxesSubplot:xlabel='maximum_daily_mins', ylabel='count'>"
      ]
     },
     "execution_count": 105,
     "metadata": {},
     "output_type": "execute_result"
    },
    {
     "data": {
      "image/png": "[encoded data removed]",
      "text/plain": [
       "<Figure size 432x288 with 1 Axes>"
      ]
     },
     "metadata": {},
     "output_type": "display_data"
    }
   ],
   "source": [
    "sns.countplot('maximum_daily_mins', data=data_df)\n"
   ]
  },
  {
   "cell_type": "code",
   "execution_count": 106,
   "id": "a66ad320",
   "metadata": {},
   "outputs": [
    {
     "data": {
      "text/plain": [
       "<AxesSubplot:xlabel='weekly_max_night_mins', ylabel='count'>"
      ]
     },
     "execution_count": 106,
     "metadata": {},
     "output_type": "execute_result"
    },
    {
     "data": {
      "image/png": "[encoded data removed]",
      "text/plain": [
       "<Figure size 432x288 with 1 Axes>"
      ]
     },
     "metadata": {},
     "output_type": "display_data"
    }
   ],
   "source": [
    "sns.countplot('weekly_max_night_mins', data = data_df)"
   ]
  },
  {
   "cell_type": "code",
   "execution_count": 107,
   "id": "af566d26",
   "metadata": {},
   "outputs": [
    {
     "data": {
      "text/plain": [
       "<AxesSubplot:xlabel='videos_watched', ylabel='count'>"
      ]
     },
     "execution_count": 107,
     "metadata": {},
     "output_type": "execute_result"
    },
    {
     "data": {
      "image/png": "[encoded data removed]",
      "text/plain": [
       "<Figure size 432x288 with 1 Axes>"
      ]
     },
     "metadata": {},
     "output_type": "display_data"
    }
   ],
   "source": [
    "sns.countplot('videos_watched', data = data_df)"
   ]
  },
  {
   "cell_type": "code",
   "execution_count": 108,
   "id": "798dc4a6",
   "metadata": {},
   "outputs": [
    {
     "data": {
      "text/plain": [
       "<AxesSubplot:xlabel='maximum_days_inactive', ylabel='count'>"
      ]
     },
     "execution_count": 108,
     "metadata": {},
     "output_type": "execute_result"
    },
    {
     "data": {
      "image/png": "[encoded data removed]",
      "text/plain": [
       "<Figure size 432x288 with 1 Axes>"
      ]
     },
     "metadata": {},
     "output_type": "display_data"
    }
   ],
   "source": [
    "sns.countplot('maximum_days_inactive', data=data_df)"
   ]
  },
  {
   "cell_type": "code",
   "execution_count": 109,
   "id": "12fddf93",
   "metadata": {},
   "outputs": [
    {
     "data": {
      "text/plain": [
       "<AxesSubplot:xlabel='gender', ylabel='count'>"
      ]
     },
     "execution_count": 109,
     "metadata": {},
     "output_type": "execute_result"
    },
    {
     "data": {
      "image/png": "[encoded data removed]",
      "text/plain": [
       "<Figure size 432x288 with 1 Axes>"
      ]
     },
     "metadata": {},
     "output_type": "display_data"
    }
   ],
   "source": [
    "sns.countplot('gender', data=data_df)\n"
   ]
  },
  {
   "cell_type": "code",
   "execution_count": 110,
   "id": "603326a9",
   "metadata": {},
   "outputs": [
    {
     "data": {
      "text/plain": [
       "<AxesSubplot:xlabel='maximum_days_inactive', ylabel='count'>"
      ]
     },
     "execution_count": 110,
     "metadata": {},
     "output_type": "execute_result"
    },
    {
     "data": {
      "image/png": "[encoded data removed]",
      "text/plain": [
       "<Figure size 432x288 with 1 Axes>"
      ]
     },
     "metadata": {},
     "output_type": "display_data"
    }
   ],
   "source": [
    "sns.countplot('maximum_days_inactive',hue='maximum_days_inactive',data=data_df)"
   ]
  },
  {
   "cell_type": "code",
   "execution_count": 111,
   "id": "021302c3",
   "metadata": {},
   "outputs": [
    {
     "data": {
      "text/plain": [
       "<AxesSubplot:xlabel='gender', ylabel='count'>"
      ]
     },
     "execution_count": 111,
     "metadata": {},
     "output_type": "execute_result"
    },
    {
     "data": {
      "image/png": "[encoded data removed]",
      "text/plain": [
       "<Figure size 432x288 with 1 Axes>"
      ]
     },
     "metadata": {},
     "output_type": "display_data"
    }
   ],
   "source": [
    "sns.countplot('gender',hue='gender',data=data_df)"
   ]
  },
  {
   "cell_type": "code",
   "execution_count": 112,
   "id": "f50272bf",
   "metadata": {},
   "outputs": [
    {
     "data": {
      "text/plain": [
       "Male      1077\n",
       "Female     923\n",
       "Name: gender, dtype: int64"
      ]
     },
     "execution_count": 112,
     "metadata": {},
     "output_type": "execute_result"
    }
   ],
   "source": [
    "data_df['gender'].value_counts()"
   ]
  },
  {
   "cell_type": "code",
   "execution_count": 113,
   "id": "d3998445",
   "metadata": {},
   "outputs": [
    {
     "data": {
      "text/plain": [
       "no     1802\n",
       "yes     198\n",
       "Name: multi_screen, dtype: int64"
      ]
     },
     "execution_count": 113,
     "metadata": {},
     "output_type": "execute_result"
    }
   ],
   "source": [
    "data_df['multi_screen'].value_counts()"
   ]
  },
  {
   "cell_type": "code",
   "execution_count": 114,
   "id": "b383f5da",
   "metadata": {},
   "outputs": [
    {
     "data": {
      "text/plain": [
       "no     1430\n",
       "yes     570\n",
       "Name: mail_subscribed, dtype: int64"
      ]
     },
     "execution_count": 114,
     "metadata": {},
     "output_type": "execute_result"
    }
   ],
   "source": [
    "data_df['mail_subscribed'].value_counts()\n"
   ]
  },
  {
   "cell_type": "code",
   "execution_count": 115,
   "id": "d6411e7f",
   "metadata": {},
   "outputs": [],
   "source": [
    "data_df.replace({'gender':{'Male':0, 'Female':1}, 'multi_screen':{'no':0, 'yes':1},'mail_subscribed':{'no':0, 'yes':1}}, inplace=True)\n"
   ]
  },
  {
   "cell_type": "code",
   "execution_count": 116,
   "id": "13b271a8",
   "metadata": {},
   "outputs": [
    {
     "data": {
      "text/html": [
       "<div>\n",
       "<style scoped>\n",
       "    .dataframe tbody tr th:only-of-type {\n",
       "        vertical-align: middle;\n",
       "    }\n",
       "\n",
       "    .dataframe tbody tr th {\n",
       "        vertical-align: top;\n",
       "    }\n",
       "\n",
       "    .dataframe thead th {\n",
       "        text-align: right;\n",
       "    }\n",
       "</style>\n",
       "<table border=\"1\" class=\"dataframe\">\n",
       "  <thead>\n",
       "    <tr style=\"text-align: right;\">\n",
       "      <th></th>\n",
       "      <th>year</th>\n",
       "      <th>customer_id</th>\n",
       "      <th>phone_no</th>\n",
       "      <th>gender</th>\n",
       "      <th>age</th>\n",
       "      <th>no_of_days_subscribed</th>\n",
       "      <th>multi_screen</th>\n",
       "      <th>mail_subscribed</th>\n",
       "      <th>weekly_mins_watched</th>\n",
       "      <th>minimum_daily_mins</th>\n",
       "      <th>maximum_daily_mins</th>\n",
       "      <th>weekly_max_night_mins</th>\n",
       "      <th>videos_watched</th>\n",
       "      <th>maximum_days_inactive</th>\n",
       "      <th>customer_support_calls</th>\n",
       "    </tr>\n",
       "  </thead>\n",
       "  <tbody>\n",
       "    <tr>\n",
       "      <th>0</th>\n",
       "      <td>2015</td>\n",
       "      <td>100198</td>\n",
       "      <td>409-8743</td>\n",
       "      <td>1</td>\n",
       "      <td>36</td>\n",
       "      <td>62</td>\n",
       "      <td>0</td>\n",
       "      <td>0</td>\n",
       "      <td>148.35</td>\n",
       "      <td>12.2</td>\n",
       "      <td>16.81</td>\n",
       "      <td>82</td>\n",
       "      <td>1</td>\n",
       "      <td>4.0</td>\n",
       "      <td>1</td>\n",
       "    </tr>\n",
       "    <tr>\n",
       "      <th>1</th>\n",
       "      <td>2015</td>\n",
       "      <td>100643</td>\n",
       "      <td>340-5930</td>\n",
       "      <td>1</td>\n",
       "      <td>39</td>\n",
       "      <td>149</td>\n",
       "      <td>0</td>\n",
       "      <td>0</td>\n",
       "      <td>294.45</td>\n",
       "      <td>7.7</td>\n",
       "      <td>33.37</td>\n",
       "      <td>87</td>\n",
       "      <td>3</td>\n",
       "      <td>3.0</td>\n",
       "      <td>2</td>\n",
       "    </tr>\n",
       "    <tr>\n",
       "      <th>2</th>\n",
       "      <td>2015</td>\n",
       "      <td>100756</td>\n",
       "      <td>372-3750</td>\n",
       "      <td>1</td>\n",
       "      <td>65</td>\n",
       "      <td>126</td>\n",
       "      <td>0</td>\n",
       "      <td>0</td>\n",
       "      <td>87.30</td>\n",
       "      <td>11.9</td>\n",
       "      <td>9.89</td>\n",
       "      <td>91</td>\n",
       "      <td>1</td>\n",
       "      <td>4.0</td>\n",
       "      <td>5</td>\n",
       "    </tr>\n",
       "    <tr>\n",
       "      <th>3</th>\n",
       "      <td>2015</td>\n",
       "      <td>101595</td>\n",
       "      <td>331-4902</td>\n",
       "      <td>1</td>\n",
       "      <td>24</td>\n",
       "      <td>131</td>\n",
       "      <td>0</td>\n",
       "      <td>1</td>\n",
       "      <td>321.30</td>\n",
       "      <td>9.5</td>\n",
       "      <td>36.41</td>\n",
       "      <td>102</td>\n",
       "      <td>4</td>\n",
       "      <td>3.0</td>\n",
       "      <td>3</td>\n",
       "    </tr>\n",
       "    <tr>\n",
       "      <th>4</th>\n",
       "      <td>2015</td>\n",
       "      <td>101653</td>\n",
       "      <td>351-8398</td>\n",
       "      <td>1</td>\n",
       "      <td>40</td>\n",
       "      <td>191</td>\n",
       "      <td>0</td>\n",
       "      <td>0</td>\n",
       "      <td>243.00</td>\n",
       "      <td>10.9</td>\n",
       "      <td>27.54</td>\n",
       "      <td>83</td>\n",
       "      <td>7</td>\n",
       "      <td>3.0</td>\n",
       "      <td>1</td>\n",
       "    </tr>\n",
       "  </tbody>\n",
       "</table>\n",
       "</div>"
      ],
      "text/plain": [
       "   year  customer_id  phone_no  gender  age  no_of_days_subscribed  \\\n",
       "0  2015       100198  409-8743       1   36                     62   \n",
       "1  2015       100643  340-5930       1   39                    149   \n",
       "2  2015       100756  372-3750       1   65                    126   \n",
       "3  2015       101595  331-4902       1   24                    131   \n",
       "4  2015       101653  351-8398       1   40                    191   \n",
       "\n",
       "   multi_screen  mail_subscribed  weekly_mins_watched  minimum_daily_mins  \\\n",
       "0             0                0               148.35                12.2   \n",
       "1             0                0               294.45                 7.7   \n",
       "2             0                0                87.30                11.9   \n",
       "3             0                1               321.30                 9.5   \n",
       "4             0                0               243.00                10.9   \n",
       "\n",
       "   maximum_daily_mins  weekly_max_night_mins  videos_watched  \\\n",
       "0               16.81                     82               1   \n",
       "1               33.37                     87               3   \n",
       "2                9.89                     91               1   \n",
       "3               36.41                    102               4   \n",
       "4               27.54                     83               7   \n",
       "\n",
       "   maximum_days_inactive  customer_support_calls  \n",
       "0                    4.0                       1  \n",
       "1                    3.0                       2  \n",
       "2                    4.0                       5  \n",
       "3                    3.0                       3  \n",
       "4                    3.0                       1  "
      ]
     },
     "execution_count": 116,
     "metadata": {},
     "output_type": "execute_result"
    }
   ],
   "source": [
    "data_df.head()"
   ]
  },
  {
   "cell_type": "code",
   "execution_count": 117,
   "id": "627231b8",
   "metadata": {},
   "outputs": [],
   "source": [
    "X = data_df.drop(columns = ['customer_id','phone_no' ,'age','multi_screen','customer_support_calls'])\n",
    "Y = data_df['maximum_days_inactive']"
   ]
  },
  {
   "cell_type": "code",
   "execution_count": 118,
   "id": "bc9bb10e",
   "metadata": {},
   "outputs": [
    {
     "name": "stdout",
     "output_type": "stream",
     "text": [
      "      year  gender  no_of_days_subscribed  mail_subscribed  \\\n",
      "0     2015       1                     62                0   \n",
      "1     2015       1                    149                0   \n",
      "2     2015       1                    126                0   \n",
      "3     2015       1                    131                1   \n",
      "4     2015       1                    191                0   \n",
      "...    ...     ...                    ...              ...   \n",
      "1995  2015       1                     75                1   \n",
      "1996  2015       0                    127                0   \n",
      "1997  2015       0                     94                0   \n",
      "1998  2015       0                     94                0   \n",
      "1999  2015       0                     73                0   \n",
      "\n",
      "      weekly_mins_watched  minimum_daily_mins  maximum_daily_mins  \\\n",
      "0                  148.35                12.2               16.81   \n",
      "1                  294.45                 7.7               33.37   \n",
      "2                   87.30                11.9                9.89   \n",
      "3                  321.30                 9.5               36.41   \n",
      "4                  243.00                10.9               27.54   \n",
      "...                   ...                 ...                 ...   \n",
      "1995               182.25                11.3               20.66   \n",
      "1996               273.45                 9.3               30.99   \n",
      "1997               128.85                15.6               14.60   \n",
      "1998               178.05                10.4               20.18   \n",
      "1999               326.70                10.3               37.03   \n",
      "\n",
      "      weekly_max_night_mins  videos_watched  maximum_days_inactive  \n",
      "0                        82               1                    4.0  \n",
      "1                        87               3                    3.0  \n",
      "2                        91               1                    4.0  \n",
      "3                       102               4                    3.0  \n",
      "4                        83               7                    3.0  \n",
      "...                     ...             ...                    ...  \n",
      "1995                     97               5                    4.0  \n",
      "1996                    116               3                    3.0  \n",
      "1997                    110              16                    5.0  \n",
      "1998                    100               6                    3.0  \n",
      "1999                     89               6                    3.0  \n",
      "\n",
      "[2000 rows x 10 columns]\n"
     ]
    }
   ],
   "source": [
    "print(X)"
   ]
  },
  {
   "cell_type": "code",
   "execution_count": 119,
   "id": "b3cf5fa7",
   "metadata": {},
   "outputs": [
    {
     "name": "stdout",
     "output_type": "stream",
     "text": [
      "0       4.0\n",
      "1       3.0\n",
      "2       4.0\n",
      "3       3.0\n",
      "4       3.0\n",
      "       ... \n",
      "1995    4.0\n",
      "1996    3.0\n",
      "1997    5.0\n",
      "1998    3.0\n",
      "1999    3.0\n",
      "Name: maximum_days_inactive, Length: 2000, dtype: float64\n"
     ]
    }
   ],
   "source": [
    "print(Y)"
   ]
  },
  {
   "cell_type": "code",
   "execution_count": 120,
   "id": "64c1ed3a",
   "metadata": {},
   "outputs": [],
   "source": [
    "X_train, X_test, Y_train , Y_test = train_test_split(X,Y, test_size=0.2, random_state=2)"
   ]
  },
  {
   "cell_type": "code",
   "execution_count": 121,
   "id": "f1eac570",
   "metadata": {},
   "outputs": [
    {
     "name": "stdout",
     "output_type": "stream",
     "text": [
      "(2000, 10) (1600, 10) (400, 10)\n"
     ]
    }
   ],
   "source": [
    "print(X.shape, X_train.shape , X_test.shape)"
   ]
  },
  {
   "cell_type": "code",
   "execution_count": 122,
   "id": "11e52c5c",
   "metadata": {},
   "outputs": [],
   "source": [
    "model = LogisticRegression()"
   ]
  },
  {
   "cell_type": "code",
   "execution_count": 123,
   "id": "2b6f6207",
   "metadata": {},
   "outputs": [
    {
     "data": {
      "text/plain": [
       "LogisticRegression()"
      ]
     },
     "execution_count": 123,
     "metadata": {},
     "output_type": "execute_result"
    }
   ],
   "source": [
    "model.fit(X_train,Y_train)"
   ]
  },
  {
   "cell_type": "code",
   "execution_count": 148,
   "id": "9c4b6cc3",
   "metadata": {},
   "outputs": [],
   "source": [
    "X_train_prediction = model.predict(X_train)\n",
    "X_test_prediction = model.predict(X_test)"
   ]
  },
  {
   "cell_type": "code",
   "execution_count": 149,
   "id": "00805471",
   "metadata": {},
   "outputs": [
    {
     "name": "stdout",
     "output_type": "stream",
     "text": [
      "[3. 3. 4. ... 3. 3. 3.]\n"
     ]
    }
   ],
   "source": [
    "print(X_train_prediction)\n"
   ]
  },
  {
   "cell_type": "code",
   "execution_count": 150,
   "id": "8ffac26e",
   "metadata": {},
   "outputs": [
    {
     "name": "stdout",
     "output_type": "stream",
     "text": [
      "Accuracy score of training data : 0.611875\n"
     ]
    }
   ],
   "source": [
    "training_data_accuracy = accuracy_score(Y_train,X_train_prediction)\n",
    "print('Accuracy score of training data :', training_data_accuracy)\n"
   ]
  },
  {
   "cell_type": "code",
   "execution_count": 151,
   "id": "1d753afa",
   "metadata": {},
   "outputs": [],
   "source": [
    "from sklearn.metrics import confusion_matrix"
   ]
  },
  {
   "cell_type": "code",
   "execution_count": 152,
   "id": "96e58805",
   "metadata": {},
   "outputs": [
    {
     "name": "stdout",
     "output_type": "stream",
     "text": [
      "[[  0   0   0   4   0   0]\n",
      " [  0   0   0   2   0   0]\n",
      " [  0   0   0  54   0   0]\n",
      " [  0   0   0 185   5   0]\n",
      " [  0   0   0  79  55   0]\n",
      " [  0   0   0   0  16   0]]\n"
     ]
    }
   ],
   "source": [
    "cf_matrix= confusion_matrix(Y_test,X_test_prediction)\n",
    "print(cf_matrix)"
   ]
  },
  {
   "cell_type": "code",
   "execution_count": null,
   "id": "5ec1be17",
   "metadata": {},
   "outputs": [],
   "source": []
  }
 ],
 "metadata": {
  "kernelspec": {
   "display_name": "Python 3 (ipykernel)",
   "language": "python",
   "name": "python3"
  },
  "language_info": {
   "codemirror_mode": {
    "name": "ipython",
    "version": 3
   },
   "file_extension": ".py",
   "mimetype": "text/x-python",
   "name": "python",
   "nbconvert_exporter": "python",
   "pygments_lexer": "ipython3",
   "version": "3.10.9"
  }
 },
 "nbformat": 4,
 "nbformat_minor": 5
}
